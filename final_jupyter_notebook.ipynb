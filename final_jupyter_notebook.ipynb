{
 "cells": [
  {
   "cell_type": "markdown",
   "metadata": {
    "collapsed": true
   },
   "source": [
    "# My Jupyter Notebook on IBM Watson Studio"
   ]
  },
  {
   "cell_type": "markdown",
   "metadata": {},
   "source": [
    "Francisco Amiama <br> Agricultural Engineer"
   ]
  },
  {
   "cell_type": "markdown",
   "metadata": {},
   "source": [
    "_I am interested in data science because data is the seeds of knowledge._"
   ]
  },
  {
   "cell_type": "markdown",
   "metadata": {},
   "source": [
    "### The following code requests the user's name and then asks to enter two numbers to perform a sum, printing on the screen a greeting to the user with the sum of the two numbers entered."
   ]
  },
  {
   "cell_type": "code",
   "execution_count": 35,
   "metadata": {},
   "outputs": [
    {
     "name": "stdout",
     "output_type": "stream",
     "text": [
      "Enter your name :Francisco\n",
      "Now, enter a number: 1\n",
      "Enter another number: 2\n",
      "Hello Francisco!, the result of your sum is: 3\n",
      "Good luck!\n"
     ]
    }
   ],
   "source": [
    "name = input(\"Enter your name :\")\n",
    "\n",
    "num1 = int(input(\"Now, enter a number: \"))\n",
    "num2 = int(input(\"Enter another number: \"))\n",
    "result = str(num1 + num2)\n",
    "\n",
    "print(\"Hello \" + name + \"!, \" + \"the result of your sum is: \" + result)\n",
    "print(\"Good luck!\")"
   ]
  },
  {
   "cell_type": "markdown",
   "metadata": {},
   "source": [
    "<ul>\n",
    "<li>One</li>\n",
    "<li>Two</li>\n",
    "<li>Three</li>\n",
    "<li>Four</li>\n",
    "<li>Five</li>\n",
    "<li>Six</li>\n",
    "</ul>\n",
    "\n",
    "<img src=\"https://jupyter.org/assets/homepage/main-logo.svg\" title=\"Jupyter Logo\" width=\"200\"/>\n",
    "\n",
    "<a href=\"https://www.ibm.com/\">www.ibm.com/</a>\n",
    "\n",
    "\n",
    "|  H1  |  H2  |  H3  |\n",
    "|------|------|------|\n",
    "|1     |2     |3     |\n",
    "|A     |B     |C     |"
   ]
  }
 ],
 "metadata": {
  "kernelspec": {
   "display_name": "Python 3.9",
   "language": "python",
   "name": "python3"
  },
  "language_info": {
   "codemirror_mode": {
    "name": "ipython",
    "version": 3
   },
   "file_extension": ".py",
   "mimetype": "text/x-python",
   "name": "python",
   "nbconvert_exporter": "python",
   "pygments_lexer": "ipython3",
   "version": "3.9.12"
  }
 },
 "nbformat": 4,
 "nbformat_minor": 1
}
