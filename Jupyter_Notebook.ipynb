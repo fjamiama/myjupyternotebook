{
 "cells": [
  {
   "cell_type": "markdown",
   "metadata": {},
   "source": [
    "<center>\n",
    "    <img src=\"https://s3-api.us-geo.objectstorage.softlayer.net/cf-courses-data/CognitiveClass/Logos/organization_logo/organization_logo.png\" width=\"300\" alt=\"cognitiveclass.ai logo\"  />\n",
    "</center>\n"
   ]
  },
  {
   "cell_type": "markdown",
   "metadata": {},
   "source": [
    "# My Jupyter Notebook on IBM Watson Studio"
   ]
  },
  {
   "cell_type": "markdown",
   "metadata": {},
   "source": [
    "**Francisco Amiama** <br> Agricultural Engineer"
   ]
  },
  {
   "cell_type": "markdown",
   "metadata": {},
   "source": [
    "_I am interested in data science because data is the seeds of knowledge._"
   ]
  },
  {
   "cell_type": "markdown",
   "metadata": {},
   "source": [
    "### The following code requests the user's name and then asks to enter two numbers to perform a sum, printing on the screen a greeting to the user with the sum of the two numbers entered."
   ]
  },
  {
   "cell_type": "code",
   "execution_count": 1,
   "metadata": {},
   "outputs": [
    {
     "name": "stdin",
     "output_type": "stream",
     "text": [
      "Enter your name : Francisco\n",
      "Now, enter a number:  1\n",
      "Enter another number:  1\n"
     ]
    },
    {
     "name": "stdout",
     "output_type": "stream",
     "text": [
      "Hello Francisco!, the result of your sum is: 2\n",
      "Good luck!\n"
     ]
    }
   ],
   "source": [
    "name = input(\"Enter your name :\")\n",
    "\n",
    "num1 = int(input(\"Now, enter a number: \"))\n",
    "num2 = int(input(\"Enter another number: \"))\n",
    "result = str(num1 + num2)\n",
    "\n",
    "print(\"Hello \" + name + \"!, \" + \"the result of your sum is: \" + result)\n",
    "print(\"Good luck!\")"
   ]
  },
  {
   "cell_type": "markdown",
   "metadata": {},
   "source": [
    "<ul>\n",
    "<li>One</li>\n",
    "<li>Two</li>\n",
    "<li>Three</li>\n",
    "<li>Four</li>\n",
    "<li>Five</li>\n",
    "<li>Six</li>\n",
    "</ul>\n",
    "\n",
    "<img src=\"https://jupyter.org/assets/homepage/main-logo.svg\" title=\"Jupyter Logo\" width=\"200\"/>\n",
    "\n",
    "<a href=\"https://www.ibm.com/\">www.ibm.com/</a>"
   ]
  }
 ],
 "metadata": {
  "kernelspec": {
   "display_name": "Python",
   "language": "python",
   "name": "conda-env-python-py"
  },
  "language_info": {
   "codemirror_mode": {
    "name": "ipython",
    "version": 3
   },
   "file_extension": ".py",
   "mimetype": "text/x-python",
   "name": "python",
   "nbconvert_exporter": "python",
   "pygments_lexer": "ipython3",
   "version": "3.7.12"
  }
 },
 "nbformat": 4,
 "nbformat_minor": 4
}
